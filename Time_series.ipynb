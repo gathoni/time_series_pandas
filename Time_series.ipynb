{
  "nbformat": 4,
  "nbformat_minor": 0,
  "metadata": {
    "colab": {
      "name": "Time series.ipynb",
      "provenance": [],
      "toc_visible": true
    },
    "kernelspec": {
      "name": "python3",
      "display_name": "Python 3"
    }
  },
  "cells": [
    {
      "cell_type": "code",
      "metadata": {
        "id": "egiFlxjPeWMS",
        "colab_type": "code",
        "colab": {}
      },
      "source": [
        "# Import Libraries\n",
        "import numpy as np                               # vectors and matrices\n",
        "import pandas as pd                              # tables and data manipulations\n",
        "import matplotlib.pyplot as plt                  # plots\n",
        "import seaborn as sns                            # more plots\n",
        "sns.set()\n"
      ],
      "execution_count": 0,
      "outputs": []
    },
    {
      "cell_type": "code",
      "metadata": {
        "id": "ysaodoGkd3RS",
        "colab_type": "code",
        "outputId": "3fac89d5-f2e3-452a-a99c-e4afe15f6f08",
        "colab": {
          "base_uri": "https://localhost:8080/",
          "height": 204
        }
      },
      "source": [
        "# Load dataset\n",
        "url=\"https://raw.githubusercontent.com/Yorko/mlcourse.ai/master/data/wiki_machine_learning.csv\"\n",
        "wiki_ml=pd.read_csv(url,delimiter=',',index_col=0,squeeze=False,delim_whitespace=True,parse_dates=True)\n",
        "wiki_ml.head(5)"
      ],
      "execution_count": 36,
      "outputs": [
        {
          "output_type": "execute_result",
          "data": {
            "text/html": [
              "<div>\n",
              "<style scoped>\n",
              "    .dataframe tbody tr th:only-of-type {\n",
              "        vertical-align: middle;\n",
              "    }\n",
              "\n",
              "    .dataframe tbody tr th {\n",
              "        vertical-align: top;\n",
              "    }\n",
              "\n",
              "    .dataframe thead th {\n",
              "        text-align: right;\n",
              "    }\n",
              "</style>\n",
              "<table border=\"1\" class=\"dataframe\">\n",
              "  <thead>\n",
              "    <tr style=\"text-align: right;\">\n",
              "      <th></th>\n",
              "      <th>date</th>\n",
              "      <th>count</th>\n",
              "      <th>lang</th>\n",
              "      <th>page</th>\n",
              "      <th>rank</th>\n",
              "      <th>month</th>\n",
              "      <th>title</th>\n",
              "    </tr>\n",
              "  </thead>\n",
              "  <tbody>\n",
              "    <tr>\n",
              "      <th>81</th>\n",
              "      <td>2015-01-01</td>\n",
              "      <td>1414</td>\n",
              "      <td>en</td>\n",
              "      <td>Machine_learning</td>\n",
              "      <td>8708</td>\n",
              "      <td>201501</td>\n",
              "      <td>Machine_learning</td>\n",
              "    </tr>\n",
              "    <tr>\n",
              "      <th>80</th>\n",
              "      <td>2015-01-02</td>\n",
              "      <td>1920</td>\n",
              "      <td>en</td>\n",
              "      <td>Machine_learning</td>\n",
              "      <td>8708</td>\n",
              "      <td>201501</td>\n",
              "      <td>Machine_learning</td>\n",
              "    </tr>\n",
              "    <tr>\n",
              "      <th>79</th>\n",
              "      <td>2015-01-03</td>\n",
              "      <td>1338</td>\n",
              "      <td>en</td>\n",
              "      <td>Machine_learning</td>\n",
              "      <td>8708</td>\n",
              "      <td>201501</td>\n",
              "      <td>Machine_learning</td>\n",
              "    </tr>\n",
              "    <tr>\n",
              "      <th>78</th>\n",
              "      <td>2015-01-04</td>\n",
              "      <td>1404</td>\n",
              "      <td>en</td>\n",
              "      <td>Machine_learning</td>\n",
              "      <td>8708</td>\n",
              "      <td>201501</td>\n",
              "      <td>Machine_learning</td>\n",
              "    </tr>\n",
              "    <tr>\n",
              "      <th>77</th>\n",
              "      <td>2015-01-05</td>\n",
              "      <td>2264</td>\n",
              "      <td>en</td>\n",
              "      <td>Machine_learning</td>\n",
              "      <td>8708</td>\n",
              "      <td>201501</td>\n",
              "      <td>Machine_learning</td>\n",
              "    </tr>\n",
              "  </tbody>\n",
              "</table>\n",
              "</div>"
            ],
            "text/plain": [
              "          date  count lang              page  rank   month             title\n",
              "81  2015-01-01   1414   en  Machine_learning  8708  201501  Machine_learning\n",
              "80  2015-01-02   1920   en  Machine_learning  8708  201501  Machine_learning\n",
              "79  2015-01-03   1338   en  Machine_learning  8708  201501  Machine_learning\n",
              "78  2015-01-04   1404   en  Machine_learning  8708  201501  Machine_learning\n",
              "77  2015-01-05   2264   en  Machine_learning  8708  201501  Machine_learning"
            ]
          },
          "metadata": {
            "tags": []
          },
          "execution_count": 36
        }
      ]
    },
    {
      "cell_type": "code",
      "metadata": {
        "id": "mTNhHhfXekXr",
        "colab_type": "code",
        "colab": {
          "base_uri": "https://localhost:8080/",
          "height": 204
        },
        "outputId": "cf5c59ae-f660-48fa-9c11-1a1943a6f275"
      },
      "source": [
        "wiki_ml.tail()"
      ],
      "execution_count": 37,
      "outputs": [
        {
          "output_type": "execute_result",
          "data": {
            "text/html": [
              "<div>\n",
              "<style scoped>\n",
              "    .dataframe tbody tr th:only-of-type {\n",
              "        vertical-align: middle;\n",
              "    }\n",
              "\n",
              "    .dataframe tbody tr th {\n",
              "        vertical-align: top;\n",
              "    }\n",
              "\n",
              "    .dataframe thead th {\n",
              "        text-align: right;\n",
              "    }\n",
              "</style>\n",
              "<table border=\"1\" class=\"dataframe\">\n",
              "  <thead>\n",
              "    <tr style=\"text-align: right;\">\n",
              "      <th></th>\n",
              "      <th>date</th>\n",
              "      <th>count</th>\n",
              "      <th>lang</th>\n",
              "      <th>page</th>\n",
              "      <th>rank</th>\n",
              "      <th>month</th>\n",
              "      <th>title</th>\n",
              "    </tr>\n",
              "  </thead>\n",
              "  <tbody>\n",
              "    <tr>\n",
              "      <th>382</th>\n",
              "      <td>2016-01-16</td>\n",
              "      <td>1644</td>\n",
              "      <td>en</td>\n",
              "      <td>Machine_learning</td>\n",
              "      <td>8708</td>\n",
              "      <td>201601</td>\n",
              "      <td>Machine_learning</td>\n",
              "    </tr>\n",
              "    <tr>\n",
              "      <th>381</th>\n",
              "      <td>2016-01-17</td>\n",
              "      <td>1836</td>\n",
              "      <td>en</td>\n",
              "      <td>Machine_learning</td>\n",
              "      <td>8708</td>\n",
              "      <td>201601</td>\n",
              "      <td>Machine_learning</td>\n",
              "    </tr>\n",
              "    <tr>\n",
              "      <th>376</th>\n",
              "      <td>2016-01-18</td>\n",
              "      <td>2983</td>\n",
              "      <td>en</td>\n",
              "      <td>Machine_learning</td>\n",
              "      <td>8708</td>\n",
              "      <td>201601</td>\n",
              "      <td>Machine_learning</td>\n",
              "    </tr>\n",
              "    <tr>\n",
              "      <th>375</th>\n",
              "      <td>2016-01-19</td>\n",
              "      <td>3389</td>\n",
              "      <td>en</td>\n",
              "      <td>Machine_learning</td>\n",
              "      <td>8708</td>\n",
              "      <td>201601</td>\n",
              "      <td>Machine_learning</td>\n",
              "    </tr>\n",
              "    <tr>\n",
              "      <th>372</th>\n",
              "      <td>2016-01-20</td>\n",
              "      <td>3559</td>\n",
              "      <td>en</td>\n",
              "      <td>Machine_learning</td>\n",
              "      <td>8708</td>\n",
              "      <td>201601</td>\n",
              "      <td>Machine_learning</td>\n",
              "    </tr>\n",
              "  </tbody>\n",
              "</table>\n",
              "</div>"
            ],
            "text/plain": [
              "           date  count lang              page  rank   month             title\n",
              "382  2016-01-16   1644   en  Machine_learning  8708  201601  Machine_learning\n",
              "381  2016-01-17   1836   en  Machine_learning  8708  201601  Machine_learning\n",
              "376  2016-01-18   2983   en  Machine_learning  8708  201601  Machine_learning\n",
              "375  2016-01-19   3389   en  Machine_learning  8708  201601  Machine_learning\n",
              "372  2016-01-20   3559   en  Machine_learning  8708  201601  Machine_learning"
            ]
          },
          "metadata": {
            "tags": []
          },
          "execution_count": 37
        }
      ]
    },
    {
      "cell_type": "code",
      "metadata": {
        "id": "59WvBtppJ1td",
        "colab_type": "code",
        "colab": {
          "base_uri": "https://localhost:8080/",
          "height": 34
        },
        "outputId": "1913c3eb-be2d-4d63-b856-6a599f4ab31a"
      },
      "source": [
        "wiki_ml.shape"
      ],
      "execution_count": 38,
      "outputs": [
        {
          "output_type": "execute_result",
          "data": {
            "text/plain": [
              "(384, 7)"
            ]
          },
          "metadata": {
            "tags": []
          },
          "execution_count": 38
        }
      ]
    },
    {
      "cell_type": "markdown",
      "metadata": {
        "id": "T7RZoPCwJ6v-",
        "colab_type": "text"
      },
      "source": [
        "Our dataset has 384 rows and 7 columns"
      ]
    },
    {
      "cell_type": "code",
      "metadata": {
        "id": "MlHhETGmJ5br",
        "colab_type": "code",
        "colab": {
          "base_uri": "https://localhost:8080/",
          "height": 153
        },
        "outputId": "f706133c-e0bb-45f0-a79b-3b94ff4f8657"
      },
      "source": [
        "wiki_ml.dtypes"
      ],
      "execution_count": 39,
      "outputs": [
        {
          "output_type": "execute_result",
          "data": {
            "text/plain": [
              "date     object\n",
              "count     int64\n",
              "lang     object\n",
              "page     object\n",
              "rank      int64\n",
              "month     int64\n",
              "title    object\n",
              "dtype: object"
            ]
          },
          "metadata": {
            "tags": []
          },
          "execution_count": 39
        }
      ]
    },
    {
      "cell_type": "code",
      "metadata": {
        "id": "8Vc_NW1zLgen",
        "colab_type": "code",
        "colab": {}
      },
      "source": [
        "# convert the 'date' and 'month' column to datetime format \n",
        "# wiki_ml[['date','month']] = wiki_ml[['date','month']].apply(pd.to_datetime, format='%Y-%m-%d')"
      ],
      "execution_count": 0,
      "outputs": []
    },
    {
      "cell_type": "code",
      "metadata": {
        "id": "jkTIpvv8L0nx",
        "colab_type": "code",
        "colab": {
          "base_uri": "https://localhost:8080/",
          "height": 153
        },
        "outputId": "2d967ced-afa0-46c2-c50d-cc38b323f31f"
      },
      "source": [
        "# convert the 'Date' column to datetime format \n",
        "wiki_ml['date']= pd.to_datetime(wiki_ml['date'])\n",
        "wiki_ml.dtypes"
      ],
      "execution_count": 41,
      "outputs": [
        {
          "output_type": "execute_result",
          "data": {
            "text/plain": [
              "date     datetime64[ns]\n",
              "count             int64\n",
              "lang             object\n",
              "page             object\n",
              "rank              int64\n",
              "month             int64\n",
              "title            object\n",
              "dtype: object"
            ]
          },
          "metadata": {
            "tags": []
          },
          "execution_count": 41
        }
      ]
    },
    {
      "cell_type": "code",
      "metadata": {
        "id": "AqUX0m7jNdiN",
        "colab_type": "code",
        "colab": {
          "base_uri": "https://localhost:8080/",
          "height": 204
        },
        "outputId": "f2091265-1f69-4075-d545-8917abcb7290"
      },
      "source": [
        "# Break data and time into separate features\n",
        "# Create features for year, month, day, hour, and minute \n",
        "wiki_ml['year'] = wiki_ml['date'].dt.year \n",
        "wiki_ml['month'] = wiki_ml['date'].dt.month \n",
        "wiki_ml['day'] = wiki_ml['date'].dt.day\n",
        "wiki_ml.head()"
      ],
      "execution_count": 42,
      "outputs": [
        {
          "output_type": "execute_result",
          "data": {
            "text/html": [
              "<div>\n",
              "<style scoped>\n",
              "    .dataframe tbody tr th:only-of-type {\n",
              "        vertical-align: middle;\n",
              "    }\n",
              "\n",
              "    .dataframe tbody tr th {\n",
              "        vertical-align: top;\n",
              "    }\n",
              "\n",
              "    .dataframe thead th {\n",
              "        text-align: right;\n",
              "    }\n",
              "</style>\n",
              "<table border=\"1\" class=\"dataframe\">\n",
              "  <thead>\n",
              "    <tr style=\"text-align: right;\">\n",
              "      <th></th>\n",
              "      <th>date</th>\n",
              "      <th>count</th>\n",
              "      <th>lang</th>\n",
              "      <th>page</th>\n",
              "      <th>rank</th>\n",
              "      <th>month</th>\n",
              "      <th>title</th>\n",
              "      <th>year</th>\n",
              "      <th>day</th>\n",
              "    </tr>\n",
              "  </thead>\n",
              "  <tbody>\n",
              "    <tr>\n",
              "      <th>81</th>\n",
              "      <td>2015-01-01</td>\n",
              "      <td>1414</td>\n",
              "      <td>en</td>\n",
              "      <td>Machine_learning</td>\n",
              "      <td>8708</td>\n",
              "      <td>1</td>\n",
              "      <td>Machine_learning</td>\n",
              "      <td>2015</td>\n",
              "      <td>1</td>\n",
              "    </tr>\n",
              "    <tr>\n",
              "      <th>80</th>\n",
              "      <td>2015-01-02</td>\n",
              "      <td>1920</td>\n",
              "      <td>en</td>\n",
              "      <td>Machine_learning</td>\n",
              "      <td>8708</td>\n",
              "      <td>1</td>\n",
              "      <td>Machine_learning</td>\n",
              "      <td>2015</td>\n",
              "      <td>2</td>\n",
              "    </tr>\n",
              "    <tr>\n",
              "      <th>79</th>\n",
              "      <td>2015-01-03</td>\n",
              "      <td>1338</td>\n",
              "      <td>en</td>\n",
              "      <td>Machine_learning</td>\n",
              "      <td>8708</td>\n",
              "      <td>1</td>\n",
              "      <td>Machine_learning</td>\n",
              "      <td>2015</td>\n",
              "      <td>3</td>\n",
              "    </tr>\n",
              "    <tr>\n",
              "      <th>78</th>\n",
              "      <td>2015-01-04</td>\n",
              "      <td>1404</td>\n",
              "      <td>en</td>\n",
              "      <td>Machine_learning</td>\n",
              "      <td>8708</td>\n",
              "      <td>1</td>\n",
              "      <td>Machine_learning</td>\n",
              "      <td>2015</td>\n",
              "      <td>4</td>\n",
              "    </tr>\n",
              "    <tr>\n",
              "      <th>77</th>\n",
              "      <td>2015-01-05</td>\n",
              "      <td>2264</td>\n",
              "      <td>en</td>\n",
              "      <td>Machine_learning</td>\n",
              "      <td>8708</td>\n",
              "      <td>1</td>\n",
              "      <td>Machine_learning</td>\n",
              "      <td>2015</td>\n",
              "      <td>5</td>\n",
              "    </tr>\n",
              "  </tbody>\n",
              "</table>\n",
              "</div>"
            ],
            "text/plain": [
              "         date  count lang              page  ...  month             title  year  day\n",
              "81 2015-01-01   1414   en  Machine_learning  ...      1  Machine_learning  2015    1\n",
              "80 2015-01-02   1920   en  Machine_learning  ...      1  Machine_learning  2015    2\n",
              "79 2015-01-03   1338   en  Machine_learning  ...      1  Machine_learning  2015    3\n",
              "78 2015-01-04   1404   en  Machine_learning  ...      1  Machine_learning  2015    4\n",
              "77 2015-01-05   2264   en  Machine_learning  ...      1  Machine_learning  2015    5\n",
              "\n",
              "[5 rows x 9 columns]"
            ]
          },
          "metadata": {
            "tags": []
          },
          "execution_count": 42
        }
      ]
    },
    {
      "cell_type": "code",
      "metadata": {
        "id": "ziSo8f2oM7R6",
        "colab_type": "code",
        "colab": {
          "base_uri": "https://localhost:8080/",
          "height": 173
        },
        "outputId": "fa6c2f95-9965-438e-c996-8d61b8ad84bd"
      },
      "source": [
        "# Set the dataFrame's index at Date column\n",
        "wiki_ml = wiki_ml.set_index('date')\n",
        "wiki_ml.head(3)"
      ],
      "execution_count": 43,
      "outputs": [
        {
          "output_type": "execute_result",
          "data": {
            "text/html": [
              "<div>\n",
              "<style scoped>\n",
              "    .dataframe tbody tr th:only-of-type {\n",
              "        vertical-align: middle;\n",
              "    }\n",
              "\n",
              "    .dataframe tbody tr th {\n",
              "        vertical-align: top;\n",
              "    }\n",
              "\n",
              "    .dataframe thead th {\n",
              "        text-align: right;\n",
              "    }\n",
              "</style>\n",
              "<table border=\"1\" class=\"dataframe\">\n",
              "  <thead>\n",
              "    <tr style=\"text-align: right;\">\n",
              "      <th></th>\n",
              "      <th>count</th>\n",
              "      <th>lang</th>\n",
              "      <th>page</th>\n",
              "      <th>rank</th>\n",
              "      <th>month</th>\n",
              "      <th>title</th>\n",
              "      <th>year</th>\n",
              "      <th>day</th>\n",
              "    </tr>\n",
              "    <tr>\n",
              "      <th>date</th>\n",
              "      <th></th>\n",
              "      <th></th>\n",
              "      <th></th>\n",
              "      <th></th>\n",
              "      <th></th>\n",
              "      <th></th>\n",
              "      <th></th>\n",
              "      <th></th>\n",
              "    </tr>\n",
              "  </thead>\n",
              "  <tbody>\n",
              "    <tr>\n",
              "      <th>2015-01-01</th>\n",
              "      <td>1414</td>\n",
              "      <td>en</td>\n",
              "      <td>Machine_learning</td>\n",
              "      <td>8708</td>\n",
              "      <td>1</td>\n",
              "      <td>Machine_learning</td>\n",
              "      <td>2015</td>\n",
              "      <td>1</td>\n",
              "    </tr>\n",
              "    <tr>\n",
              "      <th>2015-01-02</th>\n",
              "      <td>1920</td>\n",
              "      <td>en</td>\n",
              "      <td>Machine_learning</td>\n",
              "      <td>8708</td>\n",
              "      <td>1</td>\n",
              "      <td>Machine_learning</td>\n",
              "      <td>2015</td>\n",
              "      <td>2</td>\n",
              "    </tr>\n",
              "    <tr>\n",
              "      <th>2015-01-03</th>\n",
              "      <td>1338</td>\n",
              "      <td>en</td>\n",
              "      <td>Machine_learning</td>\n",
              "      <td>8708</td>\n",
              "      <td>1</td>\n",
              "      <td>Machine_learning</td>\n",
              "      <td>2015</td>\n",
              "      <td>3</td>\n",
              "    </tr>\n",
              "  </tbody>\n",
              "</table>\n",
              "</div>"
            ],
            "text/plain": [
              "            count lang              page  ...             title  year day\n",
              "date                                      ...                            \n",
              "2015-01-01   1414   en  Machine_learning  ...  Machine_learning  2015   1\n",
              "2015-01-02   1920   en  Machine_learning  ...  Machine_learning  2015   2\n",
              "2015-01-03   1338   en  Machine_learning  ...  Machine_learning  2015   3\n",
              "\n",
              "[3 rows x 8 columns]"
            ]
          },
          "metadata": {
            "tags": []
          },
          "execution_count": 43
        }
      ]
    },
    {
      "cell_type": "markdown",
      "metadata": {
        "id": "tBwhsNWUPmlU",
        "colab_type": "text"
      },
      "source": [
        "#### **Time Based Indexing**"
      ]
    },
    {
      "cell_type": "code",
      "metadata": {
        "id": "zYNlEbskPEP3",
        "colab_type": "code",
        "colab": {
          "base_uri": "https://localhost:8080/",
          "height": 1000
        },
        "outputId": "95d0662c-925b-414d-edef-54a785011e0b"
      },
      "source": [
        "# Month of June 2015\n",
        "wiki_ml.loc['2015-06']"
      ],
      "execution_count": 44,
      "outputs": [
        {
          "output_type": "execute_result",
          "data": {
            "text/html": [
              "<div>\n",
              "<style scoped>\n",
              "    .dataframe tbody tr th:only-of-type {\n",
              "        vertical-align: middle;\n",
              "    }\n",
              "\n",
              "    .dataframe tbody tr th {\n",
              "        vertical-align: top;\n",
              "    }\n",
              "\n",
              "    .dataframe thead th {\n",
              "        text-align: right;\n",
              "    }\n",
              "</style>\n",
              "<table border=\"1\" class=\"dataframe\">\n",
              "  <thead>\n",
              "    <tr style=\"text-align: right;\">\n",
              "      <th></th>\n",
              "      <th>count</th>\n",
              "      <th>lang</th>\n",
              "      <th>page</th>\n",
              "      <th>rank</th>\n",
              "      <th>month</th>\n",
              "      <th>title</th>\n",
              "      <th>year</th>\n",
              "      <th>day</th>\n",
              "    </tr>\n",
              "    <tr>\n",
              "      <th>date</th>\n",
              "      <th></th>\n",
              "      <th></th>\n",
              "      <th></th>\n",
              "      <th></th>\n",
              "      <th></th>\n",
              "      <th></th>\n",
              "      <th></th>\n",
              "      <th></th>\n",
              "    </tr>\n",
              "  </thead>\n",
              "  <tbody>\n",
              "    <tr>\n",
              "      <th>2015-06-01</th>\n",
              "      <td>2713</td>\n",
              "      <td>en</td>\n",
              "      <td>Machine_learning</td>\n",
              "      <td>8708</td>\n",
              "      <td>6</td>\n",
              "      <td>Machine_learning</td>\n",
              "      <td>2015</td>\n",
              "      <td>1</td>\n",
              "    </tr>\n",
              "    <tr>\n",
              "      <th>2015-06-02</th>\n",
              "      <td>2808</td>\n",
              "      <td>en</td>\n",
              "      <td>Machine_learning</td>\n",
              "      <td>8708</td>\n",
              "      <td>6</td>\n",
              "      <td>Machine_learning</td>\n",
              "      <td>2015</td>\n",
              "      <td>2</td>\n",
              "    </tr>\n",
              "    <tr>\n",
              "      <th>2015-06-03</th>\n",
              "      <td>2720</td>\n",
              "      <td>en</td>\n",
              "      <td>Machine_learning</td>\n",
              "      <td>8708</td>\n",
              "      <td>6</td>\n",
              "      <td>Machine_learning</td>\n",
              "      <td>2015</td>\n",
              "      <td>3</td>\n",
              "    </tr>\n",
              "    <tr>\n",
              "      <th>2015-06-04</th>\n",
              "      <td>2742</td>\n",
              "      <td>en</td>\n",
              "      <td>Machine_learning</td>\n",
              "      <td>8708</td>\n",
              "      <td>6</td>\n",
              "      <td>Machine_learning</td>\n",
              "      <td>2015</td>\n",
              "      <td>4</td>\n",
              "    </tr>\n",
              "    <tr>\n",
              "      <th>2015-06-05</th>\n",
              "      <td>2467</td>\n",
              "      <td>en</td>\n",
              "      <td>Machine_learning</td>\n",
              "      <td>8708</td>\n",
              "      <td>6</td>\n",
              "      <td>Machine_learning</td>\n",
              "      <td>2015</td>\n",
              "      <td>5</td>\n",
              "    </tr>\n",
              "    <tr>\n",
              "      <th>2015-06-06</th>\n",
              "      <td>1582</td>\n",
              "      <td>en</td>\n",
              "      <td>Machine_learning</td>\n",
              "      <td>8708</td>\n",
              "      <td>6</td>\n",
              "      <td>Machine_learning</td>\n",
              "      <td>2015</td>\n",
              "      <td>6</td>\n",
              "    </tr>\n",
              "    <tr>\n",
              "      <th>2015-06-07</th>\n",
              "      <td>1697</td>\n",
              "      <td>en</td>\n",
              "      <td>Machine_learning</td>\n",
              "      <td>8708</td>\n",
              "      <td>6</td>\n",
              "      <td>Machine_learning</td>\n",
              "      <td>2015</td>\n",
              "      <td>7</td>\n",
              "    </tr>\n",
              "    <tr>\n",
              "      <th>2015-06-08</th>\n",
              "      <td>2703</td>\n",
              "      <td>en</td>\n",
              "      <td>Machine_learning</td>\n",
              "      <td>8708</td>\n",
              "      <td>6</td>\n",
              "      <td>Machine_learning</td>\n",
              "      <td>2015</td>\n",
              "      <td>8</td>\n",
              "    </tr>\n",
              "    <tr>\n",
              "      <th>2015-06-09</th>\n",
              "      <td>2765</td>\n",
              "      <td>en</td>\n",
              "      <td>Machine_learning</td>\n",
              "      <td>8708</td>\n",
              "      <td>6</td>\n",
              "      <td>Machine_learning</td>\n",
              "      <td>2015</td>\n",
              "      <td>9</td>\n",
              "    </tr>\n",
              "    <tr>\n",
              "      <th>2015-06-10</th>\n",
              "      <td>2833</td>\n",
              "      <td>en</td>\n",
              "      <td>Machine_learning</td>\n",
              "      <td>8708</td>\n",
              "      <td>6</td>\n",
              "      <td>Machine_learning</td>\n",
              "      <td>2015</td>\n",
              "      <td>10</td>\n",
              "    </tr>\n",
              "    <tr>\n",
              "      <th>2015-06-11</th>\n",
              "      <td>2911</td>\n",
              "      <td>en</td>\n",
              "      <td>Machine_learning</td>\n",
              "      <td>8708</td>\n",
              "      <td>6</td>\n",
              "      <td>Machine_learning</td>\n",
              "      <td>2015</td>\n",
              "      <td>11</td>\n",
              "    </tr>\n",
              "    <tr>\n",
              "      <th>2015-06-12</th>\n",
              "      <td>2464</td>\n",
              "      <td>en</td>\n",
              "      <td>Machine_learning</td>\n",
              "      <td>8708</td>\n",
              "      <td>6</td>\n",
              "      <td>Machine_learning</td>\n",
              "      <td>2015</td>\n",
              "      <td>12</td>\n",
              "    </tr>\n",
              "    <tr>\n",
              "      <th>2015-06-13</th>\n",
              "      <td>1435</td>\n",
              "      <td>en</td>\n",
              "      <td>Machine_learning</td>\n",
              "      <td>8708</td>\n",
              "      <td>6</td>\n",
              "      <td>Machine_learning</td>\n",
              "      <td>2015</td>\n",
              "      <td>13</td>\n",
              "    </tr>\n",
              "    <tr>\n",
              "      <th>2015-06-14</th>\n",
              "      <td>1599</td>\n",
              "      <td>en</td>\n",
              "      <td>Machine_learning</td>\n",
              "      <td>8708</td>\n",
              "      <td>6</td>\n",
              "      <td>Machine_learning</td>\n",
              "      <td>2015</td>\n",
              "      <td>14</td>\n",
              "    </tr>\n",
              "    <tr>\n",
              "      <th>2015-06-15</th>\n",
              "      <td>2069</td>\n",
              "      <td>en</td>\n",
              "      <td>Machine_learning</td>\n",
              "      <td>8708</td>\n",
              "      <td>6</td>\n",
              "      <td>Machine_learning</td>\n",
              "      <td>2015</td>\n",
              "      <td>15</td>\n",
              "    </tr>\n",
              "    <tr>\n",
              "      <th>2015-06-16</th>\n",
              "      <td>1769</td>\n",
              "      <td>en</td>\n",
              "      <td>Machine_learning</td>\n",
              "      <td>8708</td>\n",
              "      <td>6</td>\n",
              "      <td>Machine_learning</td>\n",
              "      <td>2015</td>\n",
              "      <td>16</td>\n",
              "    </tr>\n",
              "    <tr>\n",
              "      <th>2015-06-17</th>\n",
              "      <td>1569</td>\n",
              "      <td>en</td>\n",
              "      <td>Machine_learning</td>\n",
              "      <td>8708</td>\n",
              "      <td>6</td>\n",
              "      <td>Machine_learning</td>\n",
              "      <td>2015</td>\n",
              "      <td>17</td>\n",
              "    </tr>\n",
              "    <tr>\n",
              "      <th>2015-06-18</th>\n",
              "      <td>1418</td>\n",
              "      <td>en</td>\n",
              "      <td>Machine_learning</td>\n",
              "      <td>8708</td>\n",
              "      <td>6</td>\n",
              "      <td>Machine_learning</td>\n",
              "      <td>2015</td>\n",
              "      <td>18</td>\n",
              "    </tr>\n",
              "    <tr>\n",
              "      <th>2015-06-19</th>\n",
              "      <td>1294</td>\n",
              "      <td>en</td>\n",
              "      <td>Machine_learning</td>\n",
              "      <td>8708</td>\n",
              "      <td>6</td>\n",
              "      <td>Machine_learning</td>\n",
              "      <td>2015</td>\n",
              "      <td>19</td>\n",
              "    </tr>\n",
              "    <tr>\n",
              "      <th>2015-06-20</th>\n",
              "      <td>729</td>\n",
              "      <td>en</td>\n",
              "      <td>Machine_learning</td>\n",
              "      <td>8708</td>\n",
              "      <td>6</td>\n",
              "      <td>Machine_learning</td>\n",
              "      <td>2015</td>\n",
              "      <td>20</td>\n",
              "    </tr>\n",
              "    <tr>\n",
              "      <th>2015-06-21</th>\n",
              "      <td>726</td>\n",
              "      <td>en</td>\n",
              "      <td>Machine_learning</td>\n",
              "      <td>8708</td>\n",
              "      <td>6</td>\n",
              "      <td>Machine_learning</td>\n",
              "      <td>2015</td>\n",
              "      <td>21</td>\n",
              "    </tr>\n",
              "    <tr>\n",
              "      <th>2015-06-22</th>\n",
              "      <td>1312</td>\n",
              "      <td>en</td>\n",
              "      <td>Machine_learning</td>\n",
              "      <td>8708</td>\n",
              "      <td>6</td>\n",
              "      <td>Machine_learning</td>\n",
              "      <td>2015</td>\n",
              "      <td>22</td>\n",
              "    </tr>\n",
              "    <tr>\n",
              "      <th>2015-06-23</th>\n",
              "      <td>1827</td>\n",
              "      <td>en</td>\n",
              "      <td>Machine_learning</td>\n",
              "      <td>8708</td>\n",
              "      <td>6</td>\n",
              "      <td>Machine_learning</td>\n",
              "      <td>2015</td>\n",
              "      <td>23</td>\n",
              "    </tr>\n",
              "    <tr>\n",
              "      <th>2015-06-24</th>\n",
              "      <td>2068</td>\n",
              "      <td>en</td>\n",
              "      <td>Machine_learning</td>\n",
              "      <td>8708</td>\n",
              "      <td>6</td>\n",
              "      <td>Machine_learning</td>\n",
              "      <td>2015</td>\n",
              "      <td>24</td>\n",
              "    </tr>\n",
              "    <tr>\n",
              "      <th>2015-06-25</th>\n",
              "      <td>2056</td>\n",
              "      <td>en</td>\n",
              "      <td>Machine_learning</td>\n",
              "      <td>8708</td>\n",
              "      <td>6</td>\n",
              "      <td>Machine_learning</td>\n",
              "      <td>2015</td>\n",
              "      <td>25</td>\n",
              "    </tr>\n",
              "    <tr>\n",
              "      <th>2015-06-26</th>\n",
              "      <td>2049</td>\n",
              "      <td>en</td>\n",
              "      <td>Machine_learning</td>\n",
              "      <td>8708</td>\n",
              "      <td>6</td>\n",
              "      <td>Machine_learning</td>\n",
              "      <td>2015</td>\n",
              "      <td>26</td>\n",
              "    </tr>\n",
              "    <tr>\n",
              "      <th>2015-06-27</th>\n",
              "      <td>1252</td>\n",
              "      <td>en</td>\n",
              "      <td>Machine_learning</td>\n",
              "      <td>8708</td>\n",
              "      <td>6</td>\n",
              "      <td>Machine_learning</td>\n",
              "      <td>2015</td>\n",
              "      <td>27</td>\n",
              "    </tr>\n",
              "    <tr>\n",
              "      <th>2015-06-28</th>\n",
              "      <td>1353</td>\n",
              "      <td>en</td>\n",
              "      <td>Machine_learning</td>\n",
              "      <td>8708</td>\n",
              "      <td>6</td>\n",
              "      <td>Machine_learning</td>\n",
              "      <td>2015</td>\n",
              "      <td>28</td>\n",
              "    </tr>\n",
              "    <tr>\n",
              "      <th>2015-06-29</th>\n",
              "      <td>2474</td>\n",
              "      <td>en</td>\n",
              "      <td>Machine_learning</td>\n",
              "      <td>8708</td>\n",
              "      <td>6</td>\n",
              "      <td>Machine_learning</td>\n",
              "      <td>2015</td>\n",
              "      <td>29</td>\n",
              "    </tr>\n",
              "    <tr>\n",
              "      <th>2015-06-30</th>\n",
              "      <td>2682</td>\n",
              "      <td>en</td>\n",
              "      <td>Machine_learning</td>\n",
              "      <td>8708</td>\n",
              "      <td>6</td>\n",
              "      <td>Machine_learning</td>\n",
              "      <td>2015</td>\n",
              "      <td>30</td>\n",
              "    </tr>\n",
              "  </tbody>\n",
              "</table>\n",
              "</div>"
            ],
            "text/plain": [
              "            count lang              page  ...             title  year day\n",
              "date                                      ...                            \n",
              "2015-06-01   2713   en  Machine_learning  ...  Machine_learning  2015   1\n",
              "2015-06-02   2808   en  Machine_learning  ...  Machine_learning  2015   2\n",
              "2015-06-03   2720   en  Machine_learning  ...  Machine_learning  2015   3\n",
              "2015-06-04   2742   en  Machine_learning  ...  Machine_learning  2015   4\n",
              "2015-06-05   2467   en  Machine_learning  ...  Machine_learning  2015   5\n",
              "2015-06-06   1582   en  Machine_learning  ...  Machine_learning  2015   6\n",
              "2015-06-07   1697   en  Machine_learning  ...  Machine_learning  2015   7\n",
              "2015-06-08   2703   en  Machine_learning  ...  Machine_learning  2015   8\n",
              "2015-06-09   2765   en  Machine_learning  ...  Machine_learning  2015   9\n",
              "2015-06-10   2833   en  Machine_learning  ...  Machine_learning  2015  10\n",
              "2015-06-11   2911   en  Machine_learning  ...  Machine_learning  2015  11\n",
              "2015-06-12   2464   en  Machine_learning  ...  Machine_learning  2015  12\n",
              "2015-06-13   1435   en  Machine_learning  ...  Machine_learning  2015  13\n",
              "2015-06-14   1599   en  Machine_learning  ...  Machine_learning  2015  14\n",
              "2015-06-15   2069   en  Machine_learning  ...  Machine_learning  2015  15\n",
              "2015-06-16   1769   en  Machine_learning  ...  Machine_learning  2015  16\n",
              "2015-06-17   1569   en  Machine_learning  ...  Machine_learning  2015  17\n",
              "2015-06-18   1418   en  Machine_learning  ...  Machine_learning  2015  18\n",
              "2015-06-19   1294   en  Machine_learning  ...  Machine_learning  2015  19\n",
              "2015-06-20    729   en  Machine_learning  ...  Machine_learning  2015  20\n",
              "2015-06-21    726   en  Machine_learning  ...  Machine_learning  2015  21\n",
              "2015-06-22   1312   en  Machine_learning  ...  Machine_learning  2015  22\n",
              "2015-06-23   1827   en  Machine_learning  ...  Machine_learning  2015  23\n",
              "2015-06-24   2068   en  Machine_learning  ...  Machine_learning  2015  24\n",
              "2015-06-25   2056   en  Machine_learning  ...  Machine_learning  2015  25\n",
              "2015-06-26   2049   en  Machine_learning  ...  Machine_learning  2015  26\n",
              "2015-06-27   1252   en  Machine_learning  ...  Machine_learning  2015  27\n",
              "2015-06-28   1353   en  Machine_learning  ...  Machine_learning  2015  28\n",
              "2015-06-29   2474   en  Machine_learning  ...  Machine_learning  2015  29\n",
              "2015-06-30   2682   en  Machine_learning  ...  Machine_learning  2015  30\n",
              "\n",
              "[30 rows x 8 columns]"
            ]
          },
          "metadata": {
            "tags": []
          },
          "execution_count": 44
        }
      ]
    },
    {
      "cell_type": "markdown",
      "metadata": {
        "id": "rW4UHlBBQCUF",
        "colab_type": "text"
      },
      "source": [
        "That displays the data for the month of June only, which is our focus"
      ]
    },
    {
      "cell_type": "code",
      "metadata": {
        "id": "x21Bps1CP0tL",
        "colab_type": "code",
        "colab": {
          "base_uri": "https://localhost:8080/",
          "height": 285
        },
        "outputId": "3cc3015f-795e-4bad-a617-48f6383718d5"
      },
      "source": [
        "import seaborn as sns\n",
        "# Use seaborn style defaults and set the default figure size\n",
        "sns.set(rc={'figure.figsize':(11, 4)})\n",
        "\n",
        "# Create a line plot of the full time series of the counts, \n",
        "# using the DataFrame’s plot() method.\n",
        "wiki_ml['count'].plot(linewidth=0.5);"
      ],
      "execution_count": 47,
      "outputs": [
        {
          "output_type": "display_data",
          "data": {
            "image/png": "[encoded data removed]",
            "text/plain": [
              "<Figure size 792x288 with 1 Axes>"
            ]
          },
          "metadata": {
            "tags": []
          }
        }
      ]
    },
    {
      "cell_type": "code",
      "metadata": {
        "id": "6kyeV_I2QbyP",
        "colab_type": "code",
        "colab": {
          "base_uri": "https://localhost:8080/",
          "height": 285
        },
        "outputId": "66e7f896-0c91-4847-b472-c39659db9cf6"
      },
      "source": [
        "# Plot timeseries in a single year to investigate the count\n",
        "ax = wiki_ml.loc['2015', 'count'].plot()\n",
        "ax.set_ylabel('Daily count in 2015');"
      ],
      "execution_count": 49,
      "outputs": [
        {
          "output_type": "display_data",
          "data": {
            "image/png": "[encoded data removed]",
            "text/plain": [
              "<Figure size 792x288 with 1 Axes>"
            ]
          },
          "metadata": {
            "tags": []
          }
        }
      ]
    },
    {
      "cell_type": "markdown",
      "metadata": {
        "id": "erlxBbxzQ-wH",
        "colab_type": "text"
      },
      "source": [
        "We see sudden dips and increase in specific months i.e a Dip in February and shoots in March, April and May"
      ]
    },
    {
      "cell_type": "code",
      "metadata": {
        "id": "ls1eyMIlQxd0",
        "colab_type": "code",
        "colab": {
          "base_uri": "https://localhost:8080/",
          "height": 296
        },
        "outputId": "b290ff47-c819-4a96-ea9d-7de63b50fa51"
      },
      "source": [
        "# Investigate further in those specific months\n",
        "\n",
        "# Zooming in further and look at just February, March, April and May.\n",
        "ax = wiki_ml.loc['2015-02':'2015-05', 'count'].plot(marker='o', linestyle='-')\n",
        "ax.set_ylabel('Daily Counts');"
      ],
      "execution_count": 52,
      "outputs": [
        {
          "output_type": "display_data",
          "data": {
            "image/png": "[encoded data removed]",
            "text/plain": [
              "<Figure size 792x288 with 1 Axes>"
            ]
          },
          "metadata": {
            "tags": []
          }
        }
      ]
    },
    {
      "cell_type": "markdown",
      "metadata": {
        "id": "rW8Z6fOxRhjQ",
        "colab_type": "text"
      },
      "source": [
        "The shoots happen almost the same days in the three months."
      ]
    },
    {
      "cell_type": "markdown",
      "metadata": {
        "id": "A8YXiILlRyqE",
        "colab_type": "text"
      },
      "source": [
        "Lets narrow down to the weeks to see if the shoots are around the same days"
      ]
    },
    {
      "cell_type": "code",
      "metadata": {
        "id": "3W_OXsIwRZz4",
        "colab_type": "code",
        "colab": {
          "base_uri": "https://localhost:8080/",
          "height": 284
        },
        "outputId": "54d793e5-31aa-4329-a062-bcc818a1728f"
      },
      "source": [
        "# Import matplotlib.dates \n",
        "# Ths will help us have a weekly timescale\n",
        "import matplotlib.dates as mdates\n",
        "\n",
        "# Create the plot directly in matplotlib. \n",
        "# Then we use mdates.WeekdayLocator() and mdates.MONDAY to set the x-axis ticks to the first Monday of each week. \n",
        "# We also use mdates.DateFormatter() to improve the formatting of the tick labels\n",
        "fig, ax = plt.subplots()\n",
        "ax.plot(wiki_ml.loc['2015-03':'2015-05', 'count'], marker='o', linestyle='-')\n",
        "ax.set_ylabel('Daily counts')\n",
        "ax.set_title('March - May 2015 Counts')\n",
        "# Set x-axis major ticks to weekly interval, on Mondays\n",
        "ax.xaxis.set_major_locator(mdates.WeekdayLocator(byweekday=mdates.MONDAY))\n",
        "# Format x-tick labels as 3-letter month name and day number\n",
        "ax.xaxis.set_major_formatter(mdates.DateFormatter('%b %d'));"
      ],
      "execution_count": 53,
      "outputs": [
        {
          "output_type": "display_data",
          "data": {
            "image/png": "[encoded data removed]",
            "text/plain": [
              "<Figure size 792x288 with 1 Axes>"
            ]
          },
          "metadata": {
            "tags": []
          }
        }
      ]
    },
    {
      "cell_type": "markdown",
      "metadata": {
        "id": "aMqq0RkISRIX",
        "colab_type": "text"
      },
      "source": [
        "We can clearly see that it lies within Tuesday and Thursday where we have the highest counts"
      ]
    },
    {
      "cell_type": "markdown",
      "metadata": {
        "id": "nuE8puhdSrnQ",
        "colab_type": "text"
      },
      "source": [
        "#### **Seasonality**"
      ]
    },
    {
      "cell_type": "markdown",
      "metadata": {
        "id": "BYYoZGAUStpJ",
        "colab_type": "text"
      },
      "source": [
        "Group the data by month, to visualize yearly seasonality"
      ]
    },
    {
      "cell_type": "code",
      "metadata": {
        "id": "wgJargCFTu43",
        "colab_type": "code",
        "colab": {
          "base_uri": "https://localhost:8080/",
          "height": 302
        },
        "outputId": "33d6401a-337f-4b41-a988-913889a95b81"
      },
      "source": [
        "# Group the data by month, to visualize yearly seasonality\n",
        "#time series by month\n",
        "sns.boxplot(data=wiki_ml, x='month', y=name)"
      ],
      "execution_count": 59,
      "outputs": [
        {
          "output_type": "execute_result",
          "data": {
            "text/plain": [
              "<matplotlib.axes._subplots.AxesSubplot at 0x7f5122aabeb8>"
            ]
          },
          "metadata": {
            "tags": []
          },
          "execution_count": 59
        },
        {
          "output_type": "display_data",
          "data": {
            "image/png": "[encoded data removed]",
            "text/plain": [
              "<Figure size 792x288 with 1 Axes>"
            ]
          },
          "metadata": {
            "tags": []
          }
        }
      ]
    },
    {
      "cell_type": "code",
      "metadata": {
        "id": "fAo5sngHUp2T",
        "colab_type": "code",
        "colab": {
          "base_uri": "https://localhost:8080/",
          "height": 235
        },
        "outputId": "0dfb8930-85d3-490d-d465-6685725b42c1"
      },
      "source": [
        "# Adding a weekday name to our dataset\n",
        "wiki_ml['Weekday Name'] = wiki_ml.index.weekday_name\n",
        "# Display a random sampling of 5 rows\n",
        "wiki_ml.sample(5, random_state=0)"
      ],
      "execution_count": 60,
      "outputs": [
        {
          "output_type": "execute_result",
          "data": {
            "text/html": [
              "<div>\n",
              "<style scoped>\n",
              "    .dataframe tbody tr th:only-of-type {\n",
              "        vertical-align: middle;\n",
              "    }\n",
              "\n",
              "    .dataframe tbody tr th {\n",
              "        vertical-align: top;\n",
              "    }\n",
              "\n",
              "    .dataframe thead th {\n",
              "        text-align: right;\n",
              "    }\n",
              "</style>\n",
              "<table border=\"1\" class=\"dataframe\">\n",
              "  <thead>\n",
              "    <tr style=\"text-align: right;\">\n",
              "      <th></th>\n",
              "      <th>count</th>\n",
              "      <th>lang</th>\n",
              "      <th>page</th>\n",
              "      <th>rank</th>\n",
              "      <th>month</th>\n",
              "      <th>title</th>\n",
              "      <th>year</th>\n",
              "      <th>day</th>\n",
              "      <th>Weekday Name</th>\n",
              "    </tr>\n",
              "    <tr>\n",
              "      <th>date</th>\n",
              "      <th></th>\n",
              "      <th></th>\n",
              "      <th></th>\n",
              "      <th></th>\n",
              "      <th></th>\n",
              "      <th></th>\n",
              "      <th></th>\n",
              "      <th></th>\n",
              "      <th></th>\n",
              "    </tr>\n",
              "  </thead>\n",
              "  <tbody>\n",
              "    <tr>\n",
              "      <th>2015-08-02</th>\n",
              "      <td>1322</td>\n",
              "      <td>en</td>\n",
              "      <td>Machine_learning</td>\n",
              "      <td>8708</td>\n",
              "      <td>8</td>\n",
              "      <td>Machine_learning</td>\n",
              "      <td>2015</td>\n",
              "      <td>2</td>\n",
              "      <td>Sunday</td>\n",
              "    </tr>\n",
              "    <tr>\n",
              "      <th>2015-05-05</th>\n",
              "      <td>2840</td>\n",
              "      <td>en</td>\n",
              "      <td>Machine_learning</td>\n",
              "      <td>8708</td>\n",
              "      <td>5</td>\n",
              "      <td>Machine_learning</td>\n",
              "      <td>2015</td>\n",
              "      <td>5</td>\n",
              "      <td>Tuesday</td>\n",
              "    </tr>\n",
              "    <tr>\n",
              "      <th>2015-07-10</th>\n",
              "      <td>2106</td>\n",
              "      <td>en</td>\n",
              "      <td>Machine_learning</td>\n",
              "      <td>8708</td>\n",
              "      <td>7</td>\n",
              "      <td>Machine_learning</td>\n",
              "      <td>2015</td>\n",
              "      <td>10</td>\n",
              "      <td>Friday</td>\n",
              "    </tr>\n",
              "    <tr>\n",
              "      <th>2015-02-22</th>\n",
              "      <td>1614</td>\n",
              "      <td>en</td>\n",
              "      <td>Machine_learning</td>\n",
              "      <td>8708</td>\n",
              "      <td>2</td>\n",
              "      <td>Machine_learning</td>\n",
              "      <td>2015</td>\n",
              "      <td>22</td>\n",
              "      <td>Sunday</td>\n",
              "    </tr>\n",
              "    <tr>\n",
              "      <th>2015-09-08</th>\n",
              "      <td>2788</td>\n",
              "      <td>en</td>\n",
              "      <td>Machine_learning</td>\n",
              "      <td>8708</td>\n",
              "      <td>9</td>\n",
              "      <td>Machine_learning</td>\n",
              "      <td>2015</td>\n",
              "      <td>8</td>\n",
              "      <td>Tuesday</td>\n",
              "    </tr>\n",
              "  </tbody>\n",
              "</table>\n",
              "</div>"
            ],
            "text/plain": [
              "            count lang              page  ...  year  day Weekday Name\n",
              "date                                      ...                        \n",
              "2015-08-02   1322   en  Machine_learning  ...  2015    2       Sunday\n",
              "2015-05-05   2840   en  Machine_learning  ...  2015    5      Tuesday\n",
              "2015-07-10   2106   en  Machine_learning  ...  2015   10       Friday\n",
              "2015-02-22   1614   en  Machine_learning  ...  2015   22       Sunday\n",
              "2015-09-08   2788   en  Machine_learning  ...  2015    8      Tuesday\n",
              "\n",
              "[5 rows x 9 columns]"
            ]
          },
          "metadata": {
            "tags": []
          },
          "execution_count": 60
        }
      ]
    },
    {
      "cell_type": "code",
      "metadata": {
        "id": "HGPIPjx-S5uu",
        "colab_type": "code",
        "colab": {
          "base_uri": "https://localhost:8080/",
          "height": 285
        },
        "outputId": "56a384e6-dd1e-456b-a10b-3049c9991391"
      },
      "source": [
        "# Group the count time series by day of the week, to explore weekly seasonality.\n",
        "sns.boxplot(data=wiki_ml, x='Weekday Name', y='count');"
      ],
      "execution_count": 62,
      "outputs": [
        {
          "output_type": "display_data",
          "data": {
            "image/png": "[encoded data removed]",
            "text/plain": [
              "<Figure size 792x288 with 1 Axes>"
            ]
          },
          "metadata": {
            "tags": []
          }
        }
      ]
    },
    {
      "cell_type": "markdown",
      "metadata": {
        "id": "13AEd3FrU74u",
        "colab_type": "text"
      },
      "source": [
        "The counts go low during the weekends"
      ]
    },
    {
      "cell_type": "markdown",
      "metadata": {
        "id": "vvHtvsVdVWan",
        "colab_type": "text"
      },
      "source": [
        "#### **Counts for the month of June**"
      ]
    },
    {
      "cell_type": "code",
      "metadata": {
        "id": "FN8YYrdhUzFb",
        "colab_type": "code",
        "colab": {
          "base_uri": "https://localhost:8080/",
          "height": 301
        },
        "outputId": "72f4984e-a995-4782-a890-d2325e11aa30"
      },
      "source": [
        "# Zooming in further and look at just June.\n",
        "ax = wiki_ml.loc['2015-06', 'count'].plot(marker='o', linestyle='-')\n",
        "ax.set_ylabel('Daily count')\n",
        "ax.set_title('Daily Count for the month of June 2015')\n",
        "# Set x-axis major ticks to weekly interval, on Mondays\n",
        "ax.xaxis.set_major_locator(mdates.WeekdayLocator(byweekday=mdates.MONDAY))\n",
        "# Format x-tick labels as 3-letter month name and day number\n",
        "ax.xaxis.set_major_formatter(mdates.DateFormatter('%b %d'));"
      ],
      "execution_count": 68,
      "outputs": [
        {
          "output_type": "display_data",
          "data": {
            "image/png": "[encoded data removed]",
            "text/plain": [
              "<Figure size 792x288 with 1 Axes>"
            ]
          },
          "metadata": {
            "tags": []
          }
        }
      ]
    },
    {
      "cell_type": "markdown",
      "metadata": {
        "id": "Q2LDuC2DWMot",
        "colab_type": "text"
      },
      "source": [
        "The counts begin highly when the month starts and dips around the mid of the month and again picks up when the month is ending"
      ]
    },
    {
      "cell_type": "code",
      "metadata": {
        "id": "7bFOrRtDVlPE",
        "colab_type": "code",
        "colab": {}
      },
      "source": [
        ""
      ],
      "execution_count": 0,
      "outputs": []
    }
  ]
}